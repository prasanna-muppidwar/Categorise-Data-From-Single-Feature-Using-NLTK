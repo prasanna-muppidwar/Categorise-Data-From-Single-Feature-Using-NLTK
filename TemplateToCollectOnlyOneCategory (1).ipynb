{
  "nbformat": 4,
  "nbformat_minor": 0,
  "metadata": {
    "colab": {
      "provenance": []
    },
    "kernelspec": {
      "name": "python3",
      "display_name": "Python 3"
    },
    "language_info": {
      "name": "python"
    }
  },
  "cells": [
    {
      "cell_type": "markdown",
      "source": [
        "# ***Template to Categorise Data From Single Feature Using NLTK***"
      ],
      "metadata": {
        "id": "90DExQiOeDxx"
      }
    },
    {
      "cell_type": "code",
      "execution_count": 138,
      "metadata": {
        "id": "ongZ1FzT2zsE"
      },
      "outputs": [],
      "source": [
        "#importing necessary imports\n",
        "import numpy as np\n",
        "import pandas as pd\n",
        "import matplotlib.pyplot as plt\n"
      ]
    },
    {
      "cell_type": "code",
      "source": [
        "#importing dataset as df\n",
        "df=pd.read_csv(\"/content/All Sports Fitness and Outdoors.csv\")"
      ],
      "metadata": {
        "id": "HtwPxP_926Hk"
      },
      "execution_count": 139,
      "outputs": []
    },
    {
      "cell_type": "code",
      "source": [
        "df.head()"
      ],
      "metadata": {
        "colab": {
          "base_uri": "https://localhost:8080/",
          "height": 687
        },
        "id": "bgOi4IE73J4K",
        "outputId": "09153680-3c8a-436f-a954-4a574483164b"
      },
      "execution_count": 140,
      "outputs": [
        {
          "output_type": "execute_result",
          "data": {
            "text/plain": [
              "                                                name     main_category  \\\n",
              "0               Campus Men's OXYFIT (N) Walking Shoe  sports & fitness   \n",
              "1  SPOKOFIT Finger Gripper Strength Trainer Forea...  sports & fitness   \n",
              "2                     Baggit Women's PEPSI Sling Bag  sports & fitness   \n",
              "3  Lista Lista002 Bicycle Silicone Saddle Seat an...  sports & fitness   \n",
              "4  Amazon Brand - Solimo Pre-Seasoned Cast Iron D...  sports & fitness   \n",
              "\n",
              "                     sub_category  \\\n",
              "0  All Sports, Fitness & Outdoors   \n",
              "1  All Sports, Fitness & Outdoors   \n",
              "2  All Sports, Fitness & Outdoors   \n",
              "3  All Sports, Fitness & Outdoors   \n",
              "4  All Sports, Fitness & Outdoors   \n",
              "\n",
              "                                               image  \\\n",
              "0  https://m.media-amazon.com/images/W/IMAGERENDE...   \n",
              "1  https://m.media-amazon.com/images/W/IMAGERENDE...   \n",
              "2  https://m.media-amazon.com/images/W/IMAGERENDE...   \n",
              "3  https://m.media-amazon.com/images/W/IMAGERENDE...   \n",
              "4  https://m.media-amazon.com/images/W/IMAGERENDE...   \n",
              "\n",
              "                                                link ratings no_of_ratings  \\\n",
              "0  https://www.amazon.in/Campus-OXYFIT-Walking-Sh...     4.1        30,227   \n",
              "1  https://www.amazon.in/SPOKOFIT-Strength-Exerci...     3.5            50   \n",
              "2  https://www.amazon.in/Baggit-Womens-Hobo-Handb...     4.3         2,065   \n",
              "3  https://www.amazon.in/Quality-Bicycle-Silicone...     3.6         6,580   \n",
              "4  https://www.amazon.in/Amazon-Brand-Solimo-Pre-...     3.9         3,890   \n",
              "\n",
              "  discount_price actual_price  \n",
              "0           ₹648         ₹999  \n",
              "1           ₹129         ₹699  \n",
              "2           ₹649       ₹1,599  \n",
              "3           ₹205         ₹999  \n",
              "4           ₹899       ₹1,800  "
            ],
            "text/html": [
              "\n",
              "\n",
              "  <div id=\"df-a40cf86e-0445-4864-9afe-852c7d2a9a20\">\n",
              "    <div class=\"colab-df-container\">\n",
              "      <div>\n",
              "<style scoped>\n",
              "    .dataframe tbody tr th:only-of-type {\n",
              "        vertical-align: middle;\n",
              "    }\n",
              "\n",
              "    .dataframe tbody tr th {\n",
              "        vertical-align: top;\n",
              "    }\n",
              "\n",
              "    .dataframe thead th {\n",
              "        text-align: right;\n",
              "    }\n",
              "</style>\n",
              "<table border=\"1\" class=\"dataframe\">\n",
              "  <thead>\n",
              "    <tr style=\"text-align: right;\">\n",
              "      <th></th>\n",
              "      <th>name</th>\n",
              "      <th>main_category</th>\n",
              "      <th>sub_category</th>\n",
              "      <th>image</th>\n",
              "      <th>link</th>\n",
              "      <th>ratings</th>\n",
              "      <th>no_of_ratings</th>\n",
              "      <th>discount_price</th>\n",
              "      <th>actual_price</th>\n",
              "    </tr>\n",
              "  </thead>\n",
              "  <tbody>\n",
              "    <tr>\n",
              "      <th>0</th>\n",
              "      <td>Campus Men's OXYFIT (N) Walking Shoe</td>\n",
              "      <td>sports &amp; fitness</td>\n",
              "      <td>All Sports, Fitness &amp; Outdoors</td>\n",
              "      <td>https://m.media-amazon.com/images/W/IMAGERENDE...</td>\n",
              "      <td>https://www.amazon.in/Campus-OXYFIT-Walking-Sh...</td>\n",
              "      <td>4.1</td>\n",
              "      <td>30,227</td>\n",
              "      <td>₹648</td>\n",
              "      <td>₹999</td>\n",
              "    </tr>\n",
              "    <tr>\n",
              "      <th>1</th>\n",
              "      <td>SPOKOFIT Finger Gripper Strength Trainer Forea...</td>\n",
              "      <td>sports &amp; fitness</td>\n",
              "      <td>All Sports, Fitness &amp; Outdoors</td>\n",
              "      <td>https://m.media-amazon.com/images/W/IMAGERENDE...</td>\n",
              "      <td>https://www.amazon.in/SPOKOFIT-Strength-Exerci...</td>\n",
              "      <td>3.5</td>\n",
              "      <td>50</td>\n",
              "      <td>₹129</td>\n",
              "      <td>₹699</td>\n",
              "    </tr>\n",
              "    <tr>\n",
              "      <th>2</th>\n",
              "      <td>Baggit Women's PEPSI Sling Bag</td>\n",
              "      <td>sports &amp; fitness</td>\n",
              "      <td>All Sports, Fitness &amp; Outdoors</td>\n",
              "      <td>https://m.media-amazon.com/images/W/IMAGERENDE...</td>\n",
              "      <td>https://www.amazon.in/Baggit-Womens-Hobo-Handb...</td>\n",
              "      <td>4.3</td>\n",
              "      <td>2,065</td>\n",
              "      <td>₹649</td>\n",
              "      <td>₹1,599</td>\n",
              "    </tr>\n",
              "    <tr>\n",
              "      <th>3</th>\n",
              "      <td>Lista Lista002 Bicycle Silicone Saddle Seat an...</td>\n",
              "      <td>sports &amp; fitness</td>\n",
              "      <td>All Sports, Fitness &amp; Outdoors</td>\n",
              "      <td>https://m.media-amazon.com/images/W/IMAGERENDE...</td>\n",
              "      <td>https://www.amazon.in/Quality-Bicycle-Silicone...</td>\n",
              "      <td>3.6</td>\n",
              "      <td>6,580</td>\n",
              "      <td>₹205</td>\n",
              "      <td>₹999</td>\n",
              "    </tr>\n",
              "    <tr>\n",
              "      <th>4</th>\n",
              "      <td>Amazon Brand - Solimo Pre-Seasoned Cast Iron D...</td>\n",
              "      <td>sports &amp; fitness</td>\n",
              "      <td>All Sports, Fitness &amp; Outdoors</td>\n",
              "      <td>https://m.media-amazon.com/images/W/IMAGERENDE...</td>\n",
              "      <td>https://www.amazon.in/Amazon-Brand-Solimo-Pre-...</td>\n",
              "      <td>3.9</td>\n",
              "      <td>3,890</td>\n",
              "      <td>₹899</td>\n",
              "      <td>₹1,800</td>\n",
              "    </tr>\n",
              "  </tbody>\n",
              "</table>\n",
              "</div>\n",
              "      <button class=\"colab-df-convert\" onclick=\"convertToInteractive('df-a40cf86e-0445-4864-9afe-852c7d2a9a20')\"\n",
              "              title=\"Convert this dataframe to an interactive table.\"\n",
              "              style=\"display:none;\">\n",
              "\n",
              "  <svg xmlns=\"http://www.w3.org/2000/svg\" height=\"24px\"viewBox=\"0 0 24 24\"\n",
              "       width=\"24px\">\n",
              "    <path d=\"M0 0h24v24H0V0z\" fill=\"none\"/>\n",
              "    <path d=\"M18.56 5.44l.94 2.06.94-2.06 2.06-.94-2.06-.94-.94-2.06-.94 2.06-2.06.94zm-11 1L8.5 8.5l.94-2.06 2.06-.94-2.06-.94L8.5 2.5l-.94 2.06-2.06.94zm10 10l.94 2.06.94-2.06 2.06-.94-2.06-.94-.94-2.06-.94 2.06-2.06.94z\"/><path d=\"M17.41 7.96l-1.37-1.37c-.4-.4-.92-.59-1.43-.59-.52 0-1.04.2-1.43.59L10.3 9.45l-7.72 7.72c-.78.78-.78 2.05 0 2.83L4 21.41c.39.39.9.59 1.41.59.51 0 1.02-.2 1.41-.59l7.78-7.78 2.81-2.81c.8-.78.8-2.07 0-2.86zM5.41 20L4 18.59l7.72-7.72 1.47 1.35L5.41 20z\"/>\n",
              "  </svg>\n",
              "      </button>\n",
              "\n",
              "\n",
              "\n",
              "    <div id=\"df-d54e3f83-3d55-4c51-9cbf-1b09b547915b\">\n",
              "      <button class=\"colab-df-quickchart\" onclick=\"quickchart('df-d54e3f83-3d55-4c51-9cbf-1b09b547915b')\"\n",
              "              title=\"Suggest charts.\"\n",
              "              style=\"display:none;\">\n",
              "\n",
              "<svg xmlns=\"http://www.w3.org/2000/svg\" height=\"24px\"viewBox=\"0 0 24 24\"\n",
              "     width=\"24px\">\n",
              "    <g>\n",
              "        <path d=\"M19 3H5c-1.1 0-2 .9-2 2v14c0 1.1.9 2 2 2h14c1.1 0 2-.9 2-2V5c0-1.1-.9-2-2-2zM9 17H7v-7h2v7zm4 0h-2V7h2v10zm4 0h-2v-4h2v4z\"/>\n",
              "    </g>\n",
              "</svg>\n",
              "      </button>\n",
              "    </div>\n",
              "\n",
              "<style>\n",
              "  .colab-df-quickchart {\n",
              "    background-color: #E8F0FE;\n",
              "    border: none;\n",
              "    border-radius: 50%;\n",
              "    cursor: pointer;\n",
              "    display: none;\n",
              "    fill: #1967D2;\n",
              "    height: 32px;\n",
              "    padding: 0 0 0 0;\n",
              "    width: 32px;\n",
              "  }\n",
              "\n",
              "  .colab-df-quickchart:hover {\n",
              "    background-color: #E2EBFA;\n",
              "    box-shadow: 0px 1px 2px rgba(60, 64, 67, 0.3), 0px 1px 3px 1px rgba(60, 64, 67, 0.15);\n",
              "    fill: #174EA6;\n",
              "  }\n",
              "\n",
              "  [theme=dark] .colab-df-quickchart {\n",
              "    background-color: #3B4455;\n",
              "    fill: #D2E3FC;\n",
              "  }\n",
              "\n",
              "  [theme=dark] .colab-df-quickchart:hover {\n",
              "    background-color: #434B5C;\n",
              "    box-shadow: 0px 1px 3px 1px rgba(0, 0, 0, 0.15);\n",
              "    filter: drop-shadow(0px 1px 2px rgba(0, 0, 0, 0.3));\n",
              "    fill: #FFFFFF;\n",
              "  }\n",
              "</style>\n",
              "\n",
              "    <script>\n",
              "      async function quickchart(key) {\n",
              "        const containerElement = document.querySelector('#' + key);\n",
              "        const charts = await google.colab.kernel.invokeFunction(\n",
              "            'suggestCharts', [key], {});\n",
              "      }\n",
              "    </script>\n",
              "\n",
              "      <script>\n",
              "\n",
              "function displayQuickchartButton(domScope) {\n",
              "  let quickchartButtonEl =\n",
              "    domScope.querySelector('#df-d54e3f83-3d55-4c51-9cbf-1b09b547915b button.colab-df-quickchart');\n",
              "  quickchartButtonEl.style.display =\n",
              "    google.colab.kernel.accessAllowed ? 'block' : 'none';\n",
              "}\n",
              "\n",
              "        displayQuickchartButton(document);\n",
              "      </script>\n",
              "      <style>\n",
              "    .colab-df-container {\n",
              "      display:flex;\n",
              "      flex-wrap:wrap;\n",
              "      gap: 12px;\n",
              "    }\n",
              "\n",
              "    .colab-df-convert {\n",
              "      background-color: #E8F0FE;\n",
              "      border: none;\n",
              "      border-radius: 50%;\n",
              "      cursor: pointer;\n",
              "      display: none;\n",
              "      fill: #1967D2;\n",
              "      height: 32px;\n",
              "      padding: 0 0 0 0;\n",
              "      width: 32px;\n",
              "    }\n",
              "\n",
              "    .colab-df-convert:hover {\n",
              "      background-color: #E2EBFA;\n",
              "      box-shadow: 0px 1px 2px rgba(60, 64, 67, 0.3), 0px 1px 3px 1px rgba(60, 64, 67, 0.15);\n",
              "      fill: #174EA6;\n",
              "    }\n",
              "\n",
              "    [theme=dark] .colab-df-convert {\n",
              "      background-color: #3B4455;\n",
              "      fill: #D2E3FC;\n",
              "    }\n",
              "\n",
              "    [theme=dark] .colab-df-convert:hover {\n",
              "      background-color: #434B5C;\n",
              "      box-shadow: 0px 1px 3px 1px rgba(0, 0, 0, 0.15);\n",
              "      filter: drop-shadow(0px 1px 2px rgba(0, 0, 0, 0.3));\n",
              "      fill: #FFFFFF;\n",
              "    }\n",
              "  </style>\n",
              "\n",
              "      <script>\n",
              "        const buttonEl =\n",
              "          document.querySelector('#df-a40cf86e-0445-4864-9afe-852c7d2a9a20 button.colab-df-convert');\n",
              "        buttonEl.style.display =\n",
              "          google.colab.kernel.accessAllowed ? 'block' : 'none';\n",
              "\n",
              "        async function convertToInteractive(key) {\n",
              "          const element = document.querySelector('#df-a40cf86e-0445-4864-9afe-852c7d2a9a20');\n",
              "          const dataTable =\n",
              "            await google.colab.kernel.invokeFunction('convertToInteractive',\n",
              "                                                     [key], {});\n",
              "          if (!dataTable) return;\n",
              "\n",
              "          const docLinkHtml = 'Like what you see? Visit the ' +\n",
              "            '<a target=\"_blank\" href=https://colab.research.google.com/notebooks/data_table.ipynb>data table notebook</a>'\n",
              "            + ' to learn more about interactive tables.';\n",
              "          element.innerHTML = '';\n",
              "          dataTable['output_type'] = 'display_data';\n",
              "          await google.colab.output.renderOutput(dataTable, element);\n",
              "          const docLink = document.createElement('div');\n",
              "          docLink.innerHTML = docLinkHtml;\n",
              "          element.appendChild(docLink);\n",
              "        }\n",
              "      </script>\n",
              "    </div>\n",
              "  </div>\n"
            ]
          },
          "metadata": {},
          "execution_count": 140
        }
      ]
    },
    {
      "cell_type": "code",
      "source": [
        "# Dropping extra features\n",
        "columns_to_drop = ['link', 'ratings', 'no_of_ratings', 'discount_price',]\n",
        "df.drop(columns_to_drop, axis=1, inplace=True)\n"
      ],
      "metadata": {
        "id": "4s0IWECHASMf"
      },
      "execution_count": 141,
      "outputs": []
    },
    {
      "cell_type": "code",
      "source": [
        "df.info()"
      ],
      "metadata": {
        "colab": {
          "base_uri": "https://localhost:8080/"
        },
        "id": "OsgWqU0u3N1P",
        "outputId": "c32a6143-669d-46db-b884-a9f8e025fb21"
      },
      "execution_count": 142,
      "outputs": [
        {
          "output_type": "stream",
          "name": "stdout",
          "text": [
            "<class 'pandas.core.frame.DataFrame'>\n",
            "RangeIndex: 1224 entries, 0 to 1223\n",
            "Data columns (total 5 columns):\n",
            " #   Column         Non-Null Count  Dtype \n",
            "---  ------         --------------  ----- \n",
            " 0   name           1224 non-null   object\n",
            " 1   main_category  1224 non-null   object\n",
            " 2   sub_category   1224 non-null   object\n",
            " 3   image          1224 non-null   object\n",
            " 4   actual_price   1220 non-null   object\n",
            "dtypes: object(5)\n",
            "memory usage: 47.9+ KB\n"
          ]
        }
      ]
    },
    {
      "cell_type": "code",
      "source": [
        "# Removing symbol and convert price column to numeric\n",
        "df['actual_price'] = df['actual_price'].str.replace('₹', '').str.replace(',', '').astype(float)\n"
      ],
      "metadata": {
        "id": "x-cNyKzaDCP_"
      },
      "execution_count": 143,
      "outputs": []
    },
    {
      "cell_type": "code",
      "source": [
        "X = df.iloc[:, [0,1,2]].values\n",
        "Y = df.iloc[:,[4]].values"
      ],
      "metadata": {
        "id": "Lu90Nin434om"
      },
      "execution_count": 144,
      "outputs": []
    },
    {
      "cell_type": "code",
      "source": [
        "# Selecting the numeric columns for clustering\n",
        "columns_for_clustering = ['main_category', 'sub_category', 'actual_price']\n",
        "X_numeric = df[columns_for_clustering]\n"
      ],
      "metadata": {
        "id": "1soiUcOPCOsN"
      },
      "execution_count": 145,
      "outputs": []
    },
    {
      "cell_type": "code",
      "source": [
        "import pandas as pd\n",
        "import nltk\n",
        "from nltk import word_tokenize, pos_tag\n",
        "\n",
        "\n",
        "nltk.download('punkt')\n",
        "nltk.download('averaged_perceptron_tagger')\n",
        "\n",
        "def filter_nouns(text):\n",
        "    tokens = word_tokenize(text)\n",
        "    tagged_tokens = pos_tag(tokens)\n",
        "    nouns = [token for token, pos in tagged_tokens if pos.startswith('NN')]\n",
        "    return ' '.join(nouns)\n",
        "\n",
        "df['filtered_name'] = df['name'].apply(filter_nouns)\n",
        "\n",
        "\n",
        "filtered_df = df[['filtered_name', 'main_category', 'sub_category', 'actual_price']]\n",
        "\n",
        "print(filtered_df)\n"
      ],
      "metadata": {
        "colab": {
          "base_uri": "https://localhost:8080/"
        },
        "id": "e_CXqRTEFsMI",
        "outputId": "7738d114-2a5c-4a83-f865-116deaee0470"
      },
      "execution_count": 146,
      "outputs": [
        {
          "output_type": "stream",
          "name": "stderr",
          "text": [
            "[nltk_data] Downloading package punkt to /root/nltk_data...\n",
            "[nltk_data]   Package punkt is already up-to-date!\n",
            "[nltk_data] Downloading package averaged_perceptron_tagger to\n",
            "[nltk_data]     /root/nltk_data...\n",
            "[nltk_data]   Package averaged_perceptron_tagger is already up-to-\n",
            "[nltk_data]       date!\n"
          ]
        },
        {
          "output_type": "stream",
          "name": "stdout",
          "text": [
            "                                          filtered_name     main_category  \\\n",
            "0                      Campus Men OXYFIT N Walking Shoe  sports & fitness   \n",
            "1     SPOKOFIT Finger Gripper Strength Trainer Forea...  sports & fitness   \n",
            "2                          Baggit Women PEPSI Sling Bag  sports & fitness   \n",
            "3     Lista Lista002 Bicycle Silicone Saddle Seat Cy...  sports & fitness   \n",
            "4     Amazon Brand Solimo Cast Iron Dosa Tawa Inches...  sports & fitness   \n",
            "...                                                 ...               ...   \n",
            "1219  Cougar Dual Action Pump Football Volleyball Ba...  sports & fitness   \n",
            "1220  GJSHOP Full Body Workout Exerciser Revolex Xtr...  sports & fitness   \n",
            "1221  Hero Growler MTB Hybrid Geared Cycle | Speed S...  sports & fitness   \n",
            "1222  Puma Womens Trackracer WN Purple Charcoal-Isla...  sports & fitness   \n",
            "1223  Wheel Wave Board Degree Colorful LED Wheels Ki...  sports & fitness   \n",
            "\n",
            "                        sub_category  actual_price  \n",
            "0     All Sports, Fitness & Outdoors         999.0  \n",
            "1     All Sports, Fitness & Outdoors         699.0  \n",
            "2     All Sports, Fitness & Outdoors        1599.0  \n",
            "3     All Sports, Fitness & Outdoors         999.0  \n",
            "4     All Sports, Fitness & Outdoors        1800.0  \n",
            "...                              ...           ...  \n",
            "1219  All Sports, Fitness & Outdoors         205.0  \n",
            "1220  All Sports, Fitness & Outdoors         999.0  \n",
            "1221  All Sports, Fitness & Outdoors       16999.0  \n",
            "1222  All Sports, Fitness & Outdoors        3499.0  \n",
            "1223  All Sports, Fitness & Outdoors        1999.0  \n",
            "\n",
            "[1224 rows x 4 columns]\n"
          ]
        }
      ]
    },
    {
      "cell_type": "code",
      "source": [
        "import pandas as pd\n",
        "from sklearn.feature_extraction.text import TfidfVectorizer\n",
        "from sklearn.cluster import KMeans\n",
        "\n",
        "\n",
        "tfidf_vectorizer = TfidfVectorizer()\n",
        "tfidf_matrix = tfidf_vectorizer.fit_transform(df['filtered_name'])\n",
        "\n",
        "\n",
        "num_clusters = 20\n",
        "kmeans = KMeans(n_clusters=num_clusters, random_state=42)\n",
        "clusters = kmeans.fit_predict(tfidf_matrix)\n",
        "\n",
        "\n",
        "df['cluster'] = clusters\n",
        "clustered_df = df[['filtered_name', 'main_category', 'sub_category', 'actual_price', 'cluster']]\n",
        "\n",
        "print(clustered_df)\n"
      ],
      "metadata": {
        "colab": {
          "base_uri": "https://localhost:8080/"
        },
        "id": "vTZOI6QvHOwq",
        "outputId": "62fb5a6e-f5a9-4997-ef87-2b1a7e8514e1"
      },
      "execution_count": 147,
      "outputs": [
        {
          "output_type": "stream",
          "name": "stderr",
          "text": [
            "/usr/local/lib/python3.10/dist-packages/sklearn/cluster/_kmeans.py:870: FutureWarning: The default value of `n_init` will change from 10 to 'auto' in 1.4. Set the value of `n_init` explicitly to suppress the warning\n",
            "  warnings.warn(\n"
          ]
        },
        {
          "output_type": "stream",
          "name": "stdout",
          "text": [
            "                                          filtered_name     main_category  \\\n",
            "0                      Campus Men OXYFIT N Walking Shoe  sports & fitness   \n",
            "1     SPOKOFIT Finger Gripper Strength Trainer Forea...  sports & fitness   \n",
            "2                          Baggit Women PEPSI Sling Bag  sports & fitness   \n",
            "3     Lista Lista002 Bicycle Silicone Saddle Seat Cy...  sports & fitness   \n",
            "4     Amazon Brand Solimo Cast Iron Dosa Tawa Inches...  sports & fitness   \n",
            "...                                                 ...               ...   \n",
            "1219  Cougar Dual Action Pump Football Volleyball Ba...  sports & fitness   \n",
            "1220  GJSHOP Full Body Workout Exerciser Revolex Xtr...  sports & fitness   \n",
            "1221  Hero Growler MTB Hybrid Geared Cycle | Speed S...  sports & fitness   \n",
            "1222  Puma Womens Trackracer WN Purple Charcoal-Isla...  sports & fitness   \n",
            "1223  Wheel Wave Board Degree Colorful LED Wheels Ki...  sports & fitness   \n",
            "\n",
            "                        sub_category  actual_price  cluster  \n",
            "0     All Sports, Fitness & Outdoors         999.0       12  \n",
            "1     All Sports, Fitness & Outdoors         699.0        7  \n",
            "2     All Sports, Fitness & Outdoors        1599.0        4  \n",
            "3     All Sports, Fitness & Outdoors         999.0        8  \n",
            "4     All Sports, Fitness & Outdoors        1800.0       16  \n",
            "...                              ...           ...      ...  \n",
            "1219  All Sports, Fitness & Outdoors         205.0        1  \n",
            "1220  All Sports, Fitness & Outdoors         999.0        5  \n",
            "1221  All Sports, Fitness & Outdoors       16999.0        2  \n",
            "1222  All Sports, Fitness & Outdoors        3499.0       11  \n",
            "1223  All Sports, Fitness & Outdoors        1999.0        5  \n",
            "\n",
            "[1224 rows x 5 columns]\n"
          ]
        }
      ]
    },
    {
      "cell_type": "code",
      "source": [
        "import pandas as pd\n",
        "\n",
        "cluster_items = {}\n",
        "\n",
        "for cluster_num, group in df.groupby('cluster'):\n",
        "    items = group['filtered_name'].tolist()\n",
        "    details = group[['main_category', 'sub_category', 'actual_price']].values.tolist()\n",
        "    cluster_items[f'Cluster {cluster_num}'] = {'items': items, 'details': details}\n",
        "\n",
        "\n",
        "result_df = pd.DataFrame(cluster_items).T\n",
        "print(result_df)\n"
      ],
      "metadata": {
        "colab": {
          "base_uri": "https://localhost:8080/"
        },
        "id": "s1LoHDVzTAp-",
        "outputId": "708ebd23-1779-4282-f6c6-3da1e9b65ca6"
      },
      "execution_count": 148,
      "outputs": [
        {
          "output_type": "stream",
          "name": "stdout",
          "text": [
            "                                                        items  \\\n",
            "Cluster 0   [Slovic Pull-Up Bar Home Workout | Non-Slip Ca...   \n",
            "Cluster 1   [Volatility Russia Hand Stich Football Size-05...   \n",
            "Cluster 2   [SFANE Polyester cms Navy Blue Gym Bag Shoulde...   \n",
            "Cluster 3   [Cosco Light Cricket Tennis Ball Pack Outer Ma...   \n",
            "Cluster 4   [Baggit Women PEPSI Sling Bag, Fostelo Handbag...   \n",
            "Cluster 5   [Boldfit Resistance Bands Workout Dual Color H...   \n",
            "Cluster 6   [BLINKIN Stretchable Yoga Pants Women Gym Pant...   \n",
            "Cluster 7   [SPOKOFIT Finger Gripper Strength Trainer Fore...   \n",
            "Cluster 8   [Lista Lista002 Bicycle Silicone Saddle Seat C...   \n",
            "Cluster 9   [Fashnex Resistance Bands Set Exercise Stretch...   \n",
            "Cluster 10  [HEELIUM Bamboo Crew Socks Men Formal Full Len...   \n",
            "Cluster 11  [Adidas Mens Running Shoe, Reebok Womens Super...   \n",
            "Cluster 12  [Campus Men OXYFIT N Walking Shoe, Campus Men ...   \n",
            "Cluster 13  [Cockatoo YM100 Yoga Mat Women Men Anti Slip E...   \n",
            "Cluster 14  [Yonex Mavis Green Cap Nylon Shuttlecock Pack ...   \n",
            "Cluster 15  [ASIAN Women Elasto-02 Knitted Sports Walking ...   \n",
            "Cluster 16  [Amazon Brand Solimo Cast Iron Dosa Tawa Inche...   \n",
            "Cluster 17  [Tape Men Walking Shoes, Tape Women White Walk...   \n",
            "Cluster 18  [Yonex ZR Light Aluminium Badminton Racquet Fu...   \n",
            "Cluster 19  [GoTrippin Waist Bags Men Women- Premium Stitc...   \n",
            "\n",
            "                                                      details  \n",
            "Cluster 0   [[sports & fitness, All Sports, Fitness & Outd...  \n",
            "Cluster 1   [[sports & fitness, All Sports, Fitness & Outd...  \n",
            "Cluster 2   [[sports & fitness, All Sports, Fitness & Outd...  \n",
            "Cluster 3   [[sports & fitness, All Sports, Fitness & Outd...  \n",
            "Cluster 4   [[sports & fitness, All Sports, Fitness & Outd...  \n",
            "Cluster 5   [[sports & fitness, All Sports, Fitness & Outd...  \n",
            "Cluster 6   [[sports & fitness, All Sports, Fitness & Outd...  \n",
            "Cluster 7   [[sports & fitness, All Sports, Fitness & Outd...  \n",
            "Cluster 8   [[sports & fitness, All Sports, Fitness & Outd...  \n",
            "Cluster 9   [[sports & fitness, All Sports, Fitness & Outd...  \n",
            "Cluster 10  [[sports & fitness, All Sports, Fitness & Outd...  \n",
            "Cluster 11  [[sports & fitness, All Sports, Fitness & Outd...  \n",
            "Cluster 12  [[sports & fitness, All Sports, Fitness & Outd...  \n",
            "Cluster 13  [[sports & fitness, All Sports, Fitness & Outd...  \n",
            "Cluster 14  [[sports & fitness, All Sports, Fitness & Outd...  \n",
            "Cluster 15  [[sports & fitness, All Sports, Fitness & Outd...  \n",
            "Cluster 16  [[sports & fitness, All Sports, Fitness & Outd...  \n",
            "Cluster 17  [[sports & fitness, All Sports, Fitness & Outd...  \n",
            "Cluster 18  [[sports & fitness, All Sports, Fitness & Outd...  \n",
            "Cluster 19  [[sports & fitness, All Sports, Fitness & Outd...  \n"
          ]
        }
      ]
    },
    {
      "cell_type": "code",
      "source": [
        "import pandas as pd\n",
        "from collections import Counter\n",
        "\n",
        "cluster_rows = []\n",
        "\n",
        "for cluster_num, group in df.groupby('cluster'):\n",
        "    items = group['filtered_name'].tolist()\n",
        "    details = group[['main_category', 'sub_category', 'actual_price']].values.tolist()\n",
        "    cluster_rows.extend([(f'Cluster {cluster_num}', item, *detail) for item, detail in zip(items, details)])\n",
        "\n",
        "\n",
        "result_df = pd.DataFrame(cluster_rows, columns=['Cluster', 'Product', 'Main Category', 'Sub Category', 'Actual Price'])\n",
        "\n",
        "def generate_cluster_name(product_names):\n",
        "    words = ' '.join(product_names).split()\n",
        "    word_counts = Counter(words)\n",
        "    most_common_word = word_counts.most_common(1)[0][0]\n",
        "    return most_common_word\n",
        "\n",
        "cluster_names = {}\n",
        "for cluster_num, group in result_df.groupby('Cluster'):\n",
        "    product_names = group['Product'].tolist()\n",
        "    cluster_name = generate_cluster_name(product_names)\n",
        "    cluster_names[cluster_num] = cluster_name\n",
        "\n",
        "result_df['Cluster'] = result_df['Cluster'].map(cluster_names)\n",
        "\n",
        "result_df.to_csv('sports.csv', index=False)\n"
      ],
      "metadata": {
        "id": "iDRz3U8PUMAF"
      },
      "execution_count": 149,
      "outputs": []
    }
  ]
}